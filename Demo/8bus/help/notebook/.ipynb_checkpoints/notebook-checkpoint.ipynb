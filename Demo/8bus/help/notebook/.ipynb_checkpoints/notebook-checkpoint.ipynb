{
 "cells": [
  {
   "cell_type": "markdown",
   "metadata": {},
   "source": []
  },
  {
   "cell_type": "code",
   "execution_count": null,
   "metadata": {
    "collapsed": true
   },
   "outputs": [],
   "source": []
  },
  {
   "cell_type": "markdown",
   "metadata": {},
   "source": [
    "# <span style=\"color:green\">Definitions</span> \n",
    "\n",
    "## Networks\n"
   ]
  },
  {
   "cell_type": "markdown",
   "metadata": {},
   "source": [
    "### Control Center Network\n",
    "**Definition**:  The *control center network* consists of the devices and objects found in a utility's control center network and relations among them.  These include Firewalls, Switches, as well as Ports, and IP addresses as documented in the [CPTL Enterprise Network Ontology](https://github.com/ITI/cptl-power/blob/master/src/ontologies/201505-enet.rdf)\n",
    "\n",
    "More formally, we represent the control center network as a graph $G=(V,E)$ whose vertices consist of devices and edges indicate the reachability relation among those devices.  Both vertices and edges have types defined within the ontology.\n",
    "\n",
    "**Purpose**:  The CyPSA tool needs to understand the topology of a utility's control center network. \n",
    "\n",
    "**Formats**: There are several different sources for such information.\n",
    "1.  Firewall Rules\n",
    "2.  Connectivity File\n",
    "3.  NMap Scans:  Contain devices on the network that have IP addresses.\n",
    "\n",
    "**Assumptions**:  TBD\n",
    "\n",
    "**Example**:  \n",
    "1.  *Firewall Rules*:  In `GitHub`, the `project/8bus/firewall/` directory contains example firewall rules.\n",
    "2.  *Connectivity File*:  No example\n",
    "3.  *NMap Scans*:  The `project/8bus/nmap/` directory contains example nmap scans."
   ]
  },
  {
   "cell_type": "markdown",
   "metadata": {},
   "source": [
    "### Substation Network\n",
    "**Definition**:  The *substation network* consists of the devices found in the substation's station house and relations among them.  These include a Remote Terminal Unit (RTU), Switch, Relay, Distance Relay, Overcurrent Relay, and Reverse Power Relay as documented in the [CPTL Substation Network Ontology](https://github.com/ITI/cptl-power/blob/master/src/ontologies/201505-snet.rdf).\n",
    "\n",
    "More formally, we represent the substation network as a graph $G=(V,E)$ whose vertices consist of devices and edges reachability.\n",
    "\n",
    "**Purpose**: The CyPSA tool needs to understand the topology of a utility's substation networks. \n",
    "\n",
    "**Formats**: There are several different sources for such information.\n",
    "1.  Firewall Rules\n",
    "2.  Connectivity File\n",
    "3.  NMap Scans:  Contain devices on the network that have IP addresses.\n",
    "\n",
    "**Assumptions**:  TBD\n",
    "\n",
    "**Example**:  \n",
    "1.  *Firewall Rules*:  In `GitHub`, the `project/8bus/firewall/` directory contains example firewall rules.\n",
    "2.  *Connectivity File*:  No example\n",
    "3.  *NMap Scans*:  The `project/8bus/nmap/` directory contains example nmap scans."
   ]
  },
  {
   "cell_type": "markdown",
   "metadata": {},
   "source": [
    "### Substation Yard\n",
    "**Definition**:  The *substation yard* consists of Breakers, Buses, Transformers, Generators, and other assets and the relations among them.  These are documented in the [CPTL Substation Yard Ontology](https://github.com/ITI/cptl-power/blob/master/src/ontologies/201505-syard.rdf).  Although there are many different ways to represent a substation yard, for our purposes, we consider the node-breaker model.    \n",
    "\n",
    "Again, the substation yard may be formalized as a graph.\n",
    "\n",
    "**Purpose**:  The CyPSA tool also needs to understand the topology of a utility's substation yards.  \n",
    "\n",
    "**Formats**:  Currently, there are a few different sources for this information.\n",
    "1.  PowerWorld Case File:  \"Information stored in this format includes power flow data, economic parameters, case time variation/options values, and screen customizations.\" \n",
    "\n",
    "**Assumptions**: TBD\n",
    "\n",
    "**Example**: The `GitHub` account `project/8bus/powerworld/case.pwb` contains an example file."
   ]
  },
  {
   "cell_type": "markdown",
   "metadata": {},
   "source": [
    "###  Network Decorated with Vulnerability Information\n",
    "**Definition**:  A *network decorated with vulnerability information* is a network whose vertices and edges are decorated with attributes regarding vulnerability information.  \n",
    "\n",
    "**Purpose**:  The CyPSA tool also needs vulnerability information to compute attack paths for critical assets.\n",
    "\n",
    "**Format**:  TBD\n",
    "\n",
    "**Assumptions**:  We assume that the only vulnerability information of interest is that captured by `nmap`.  Furthermore, we are assuming that the CVE *vulnerability* scores are relevant/applicable to assets.  \n",
    "\n",
    "**Examples**:  \n",
    "1.  *Control Center and Substation Network Decorated with CVSS Scores*:  Currently implemented in NPView.  The `GitHub` account `project/8bus/nmap/nmap-cyprus.xml` has an example of vulnerability information provided by the `nmap` tool.  This nmap information is in turn, cross-referenced with Common Vulnerability Assessment (CVE) information to pull in [CVSS](https://nvd.nist.gov/cvss.cfm) scores as a *vulnerability* attribute for each device in the network.   "
   ]
  },
  {
   "cell_type": "markdown",
   "metadata": {},
   "source": [
    "### Critical Asset\n",
    "**Definition**:  A *critical asset* is an asset that will be rendered unavailable during the cyber-physical contingency analysis.  In the current implementation, the only assets considered critical are relays and these relays are uniquely identified by IP Address.  This is a simplifying assumption.\n",
    "\n",
    "The NERC Glossary defines critical asset much more broadly:\n",
    "> “Facilities, systems, and equipment which, if destroyed, degraded, or otherwise rendered unavailable, would affect the reliability or operability of the Bulk Electric System.” \n",
    "\n",
    "**Purpose**:  To perform a cyber-physical contingency analysis, the CyPSA tool needs a list of critical assets.  \n",
    "\n",
    "**Format**:  A file where each line corresponds to a critical asset.  Currently, the only critical assets considered are relays.  Each relay is uniquely identified via an IP address.  \n",
    "\n",
    "**Assumptions**:  We assume that all assets that are of interest for contingency analysis are relays.  Furthermore, we assume that relays may be uniquely identified via IP.\n",
    "\n",
    "**Example**:  The `GitHub` account `project/8bus/critical_assets.txt` contains an example file."
   ]
  },
  {
   "cell_type": "markdown",
   "metadata": {},
   "source": [
    "# <span style=\"color:green\">Analyses</span>"
   ]
  },
  {
   "cell_type": "markdown",
   "metadata": {},
   "source": [
    "## Path-Based Analyses\n",
    "CyPSA utilizes a few different kinds of paths through the networks mentioned above.  Quickly, we need to introduce the definition of a *path*.\n",
    "\n",
    "**Definition**:  A *path* from a vertex $v_0$ to a vertex $v_n$ is a sequence of vertices $v_0, v_1, \\ldots , v_n$ such that any two consecutive vertices have an edge between them.  The *initial vertex* is $v_0$ and the *terminal vertex* is $v_n$.\n",
    "\n",
    "### Attack Path\n",
    "**Definition**:  An *attack path* is a path in which the sequence of vertices is interpreted as a sequence of machines that an attacker compromises to get to the target device (terminal vertex).  \n",
    "\n",
    "**Format**:  What is the format of an attack path?\n",
    "\n",
    "**Assumptions**:  There is no notion of time in this model.\n",
    "\n",
    "**Example**: This is a way to model a *stepping-stone attack* (CITATION!).  In `GitHub`, one can see an example of an attack path in the `connectivity.csv`.  IS THIS TRUE?\n",
    "\n",
    "### Attack Path List\n",
    "**Definition**:  An *attack path list* is an ordered sequence of attack paths.  Paths are ordered by some indexing function such as the *security index* mentioned below.\n",
    "\n",
    "**Format**:  What is the format of an attack path list?  How are we identifying these paths?  Furthermore, how are we identifying their indexing function?\n",
    "\n",
    "**Assumptions**:  TBD\n",
    "\n",
    "**Example**:  ?\n",
    "\n",
    "\n",
    "### Path Cost\n",
    "The cost of a path is a relation from a path $p$ to the reals.  One example of this currently is TBD.\n"
   ]
  },
  {
   "cell_type": "markdown",
   "metadata": {},
   "source": [
    "\n",
    "### Exposure to Cyber Attack\n",
    "WHAT DOES THIS MEAN?  \n",
    "\n",
    "### Performance Index\n",
    "The *performance index of a vertex $v$* is the degree of $v$ with respect to edges incident from/to the substation yard.  (RENAME? this is very general).  Intuitively, this captures some notion of the *value* of the asset via the extent to which the substation yard *depends* upon the asset.\n",
    "\n",
    "WHAT IS THE PERFORMANCE INDEX OF A PATH?\n",
    "\n",
    "### Security Index\n",
    "The **security index** of a path $p$ ... TBD (RENAME? this is again very general).\n",
    "\n",
    "\n",
    "\n",
    "\n",
    "\n"
   ]
  },
  {
   "cell_type": "markdown",
   "metadata": {},
   "source": [
    "# Experiments\n",
    "\n",
    "1.  \n"
   ]
  },
  {
   "cell_type": "markdown",
   "metadata": {},
   "source": [
    "## Workflow \n",
    "\n",
    "### Model Creation\n",
    "1.  What is the name of the model?  (e.g. 300 bus, 8-bus)\n",
    "\n",
    "2.  Substation Inventory (for each substation)\n",
    "    i.   What is the substation network?\n",
    "    ii.  What is the substation yard?\n",
    "    iii. What are the relations between substation network and yard? \n",
    "    \n",
    "3.  What is the control center network?\n",
    "    i.   What are the relations between control center network and substation?\n",
    "    \n",
    "For each of these components we have data sources.  The CyPSA database needs to be able to resolve a request for a certain type of data (as driven by the model) to a location where that information may be received. \n",
    "\n",
    "### Analysis (Controller)\n",
    "1.  What kind of model do you want to analyze?\n",
    "    \n",
    "2.  What kind of analysis do you want to perform?\n",
    "    i.   Power Flow Analysis\n",
    "    ii.  Reachability Analysis\n",
    "    iii. Ranked Assets\n",
    "    iv.  Paths\n",
    "    v.   Graph Join\n",
    "    \n",
    "    \n",
    "    \n",
    "### Views\n",
    "0.  Inventory List     (Given a container, an asset to inventory, and an ordering get a list)\n",
    "\n",
    "In order to do this, I need types of assets ordered by a containment relationship.\n",
    "\n",
    "2.  Substation Node Breaker    (Graph Join of Yards for List of Substations)  \n",
    "3.  Substation Network         (Graph Join of Networks for List of Substations)\n",
    "4.  Substation                 (Graph Join of Networks and Yards for List of Substations)\n",
    "5.  Control Center Substation  (Graph Join of Substation and Control-Center Networks) "
   ]
  },
  {
   "cell_type": "markdown",
   "metadata": {},
   "source": [
    "---\n",
    "\n",
    "---\n",
    "\n",
    "# Table of Contents\n",
    "0.  Introduction and Use Cases\n",
    "1.  CyPSA Object Model\n",
    "2.  Services\n",
    "3.  CyPSA Application"
   ]
  },
  {
   "cell_type": "markdown",
   "metadata": {},
   "source": [
    "# <span style=\"color:green\">Introduction</span>\n",
    "The CyPSA inventory management and analytics platform may be described in terms of the Model-view-controller programming pattern.  The CyPSA object model provides the interface through which disparate data sources about a utility's power system may be queried and integrated.  Data sources may range from other applications such as NPView and PowerWorld to end devices in the power system itself (e.g. relays).  The CyPSA application provides a set of views to both inventory devices found throughout a utility as well as analyze the security of those devices and the system as a whole via different security measures.  In this document, we describe a vision for the CyPSA Object Model and application as well as a set of service controllers that relate the two.  "
   ]
  },
  {
   "cell_type": "markdown",
   "metadata": {},
   "source": [
    "## Use Cases\n",
    "There are a wide variety of use cases for CyPSA that include but are not limited to the following:\n",
    "\n",
    "1.  How to understand the impact of cyber vulnerabilities on grid operations?\n",
    "2.  How to prioritize cyber security efforts in control networks and substations? \n",
    "3.  How to inventory substation assets for NERC CIP compliance audit?\n",
    "4.  How to inventory substation assets for educational tours?\n",
    "\n",
    "Most if not all of these applications, however, may be distilled into two fundamental activities:  (1) managing inventory of cyber-physical assets and (2) performing analyses upon these assets.  As such, CyPSA is designed to support these two activities, which although they sound simple, are challenging given the disparate sources of information.  We now briefly walk through how a utility would perform both of these activities.\n",
    "\n",
    "### Manage Inventory of Cyber-Physical Assets\n",
    "Utilities have many different sources of information that they may use to manage the inventory of cyber-physical assets that include configuration files, EMS systems, images, logs, and even schematics.  The CyPSA toolset gives utilities a consistent interface by which they can interact with and thereby integrate these disparate data sources.  Currently, CyPSA integrates cyber-network topological information (via NP View), substation node-breaker models (via PowerWorld), and the *Common Vulnerability and Exposures (CVE)* database to help utilities browse and update their inventory in a changing adversarial environment.\n",
    "\n",
    "**Consider, for example, a utility that is interested in using CyPSA to inventory and manage assets*\n",
    "\n",
    "1.  Inventory Substation Yard as a Node-Breaker Model via PowerWorld\n",
    "Currently, when the utility views the inventory of assets for the entire utility, there are no entries.  In order to manage assets inventoried within a PowerWorld case file, the utility must *register a PowerWorld data provider* with the CyPSA application.  This step, illustrated in the figure below, allows CyPSA to retrieve and update information in a running instance of PowerWorld.\n",
    "\n",
    "* SHOW IMAGE TO CREATE A PROJECT FOR THE UTILITY (8 bus model)\n",
    "* SHOW IMAGE OF EMPTY PROJECT INVENTORY (Inventory View, GetInventory)\n",
    "* SHOW IMAGE OF ADD DATA SOURCE (Add Data Source, PostInventory)\n",
    "\n",
    "Now that we have an inventory of assets, we can browse these assets either using \n",
    "* SHOW IMAGE OF POPULATED INVENTORY  (Inventory View).\n",
    "* SHOW IMAGE OF NODE-BREAKER NETWORK (Node-Breaker View, GetNetworkView)\n",
    "\n",
    "In the future, another source of the same information (e.g. schematics) may also be provided.  For example, one may want to *register a CAD data provider* with the CyPSA application.  This would provide additional information about the inventoried contents of a substation yard.  There are a few different ways to use this redundancy of information:  (1) merge the information in, (2) compare to see where the inventories differ.  In the former, merging would require mapping identifiers for assets in one format into those used by CyPSA.  In the latter, comparing would allow one to see overlap and discrepancies between the two information sources.  This has the added benefit of being able to unregister the data source should the server providing the information be suspect or less trustworthy.\n",
    "\n",
    "2.  Inventory Control Center and Substation Network via NPView\n",
    "Utilities also need to inventory their networks for a variety of reasons including NERC CIP compliance as well as security.  The NPView tool processes firewall rules to generate a network topology based on reachability analysis.  As a result, utilities can use NPView to populate their CyPSA inventory for control center and substation networks.  The utility must *register an NPView data provider* with the CyPSA application.  Once completed, CyPSA can retrieve and update information from a running instance of NPView.\n",
    "\n",
    "* SHOW IMAGE TO GET THE PROJECT INVENTORY (Inventory View, GetInventory)\n",
    "* SHOW IMAGE OF ADD DATA SOURCE (Inventory View, Get Inventory)\n",
    "\n",
    "Now that we have an inventory of assets, we can browse these assets either using\n",
    "* SHOW IMAGE OF POPULATED INVENTORY (Inventory View)\n",
    "* SHOW IMAGE OF CONTROL CENTER/SUBSTATION NETWORK (Network View, GetNetworkView)\n",
    "\n",
    "Alternative sources of a network topology may also be available to get additional (or even contradictory information) about a substation network.  These sources may be folded into the CyPSA application in much the same manner as mentioned in the section above.  \n",
    "\n",
    "3.  Inventory Cyber-Physical Connections \n",
    "One key objective of CyPSA is to enable *analyses based on cyber-physical interactions*.  As such, these analyses require a way to inventory interactions to control assets in the substation yard (e.g. breakers) via a communication network.  The CyPSA application provides text or graph-based mechanisms to inventory Cyber-Physical Connections.  The utility must *register a CyPSA interconnect provider* with the CyPSA application.  Once completed, CyPSA can retrieve and update information on the CyPSA interconnect.\n",
    "\n",
    "* SHOW IMAGE TO GET THE PROJECT INVENTORY (Inventory View, GetInventory)\n",
    "* SHOW IMAGE TO ADD DATA SOURCE \n",
    "* SHOW IMAGE OF INTERCONNECT FORM\n",
    "* SHOW IMAGE OF FULL INTERCONNECT NETWORK (Network View, GetNetworkView)\n",
    "\n",
    "Alternative sources of interconnect data may include the relay configurations or even schematics.  \n",
    "\n",
    "\n",
    "### Perform Analyses on these Networks\n",
    "**Consider, for example, a utility that is interested in using CyPSA to inventory and compose different analyses.*\n",
    "1.  Powerflow analysis via PowerWorld\n",
    "2.  Attack Path Analysis via NPView (CVE)\n",
    "3.  Reputation of IP\n",
    "4.  Graph Diffing\n",
    "\n",
    "Look at Yahoo! Pipes"
   ]
  },
  {
   "cell_type": "markdown",
   "metadata": {},
   "source": [
    "# <span style=\"color:green\">CyPSA Object Model</span>\n",
    "The CyPSA tool inventories and analyzes several different kinds of information for the utility that range from individual devices to entire substations, to the utility as a whole.  The diagram below illustrates the *containment* relationship among these objects.  In this section, we will briefly describe the objects and the data sources from which those objects may be retrieved for inventorying or further analysis.  For our purposes, we will refer to this diagram as the **CyPSA Object Tree**.\n"
   ]
  },
  {
   "cell_type": "code",
   "execution_count": 3,
   "metadata": {
    "collapsed": false
   },
   "outputs": [
    {
     "data": {
      "image/png": "[encoded data removed]",
      "text/plain": [
       "<IPython.core.display.Image object>"
      ]
     },
     "execution_count": 3,
     "metadata": {},
     "output_type": "execute_result"
    }
   ],
   "source": [
    "from IPython.display import Image\n",
    "Image(filename='images/cypsa_objects.png') \n"
   ]
  },
  {
   "cell_type": "markdown",
   "metadata": {},
   "source": [
    "### Object Identifiers\n",
    "An instance of such an object may be identified via a hierarchical CyPSA URN.  The grammar of the URN syntax is provided below.  The CyPSA *Uniform Resource Name (URN)* consists of a *Namespace Identifier (NID)* followed by a *Namespace Specific String (NSS)*.  \n",
    "\n",
    "The NID is `cypsa` to indicate we are in the CyPSA namespace.  We note that this is only one of many possible hierarchical organizations of concepts.  The structure of this namespace is defined by the Cypsa Object Model shown above.\n",
    "\n",
    "The NSS consists of a `<building_id>` to identify either a Substation or Control Center with a string of up to 32 characters.  The NSS may also contain an optional string to reference a graph or subgraph.  The graphs referenced may either be `network` to indicate a substation or control center network (depending upon the building); `node-breaker` to indicate the node-breaker model of the substation yard; or `network-node-breaker` to indicate the graph join of the a substation's network and node breaker network.\n",
    "\n",
    "Finally, the NSS may also consist of a `subgraph_id`.  The subgraph identifier is currently used to identify individual vertices within the graph (e.g. a relay or switch).  More generally, however, a subgraph may be referenced."
   ]
  },
  {
   "cell_type": "raw",
   "metadata": {},
   "source": [
    "<CYPSA_URN> ::= \"urn:\" <NID> \":\" <NSS>\n",
    "<NID> ::= \"cypsa\"\n",
    "<NSS> ::= <building_id> [\".\" <graph_id> [\"#\" <subgraph_id>] ]\n",
    "<building_id> ::= <substation_id> | <control_center_id>         \n",
    "<substation_id> ::= <let> [ 1,31<let-num-hyp> ]\n",
    "<control_center_id> ::= <let> [ 1,31<let-num-hyp> ]\n",
    "<graph_id> ::= \"network\" | \"node-breaker\" | \"network-node-breaker\"\n",
    "<subgraph_id> ::= <let> [ 1,31<let-num-hyp> ]\n",
    "\n",
    "<let>         ::= <upper> | <lower>\n",
    "<let-num-hyp> ::= <upper> | <lower> | <number> | \"-\"\n",
    "<let-num>     ::= <upper> | <lower> | <number>\n",
    "\n",
    "<upper>       ::= \"A\" | \"B\" | \"C\" | \"D\" | \"E\" | \"F\" | \"G\" | \"H\" |\n",
    "                  \"I\" | \"J\" | \"K\" | \"L\" | \"M\" | \"N\" | \"O\" | \"P\" |\n",
    "                  \"Q\" | \"R\" | \"S\" | \"T\" | \"U\" | \"V\" | \"W\" | \"X\" |\n",
    "                  \"Y\" | \"Z\"\n",
    "\n",
    "<lower>       ::= \"a\" | \"b\" | \"c\" | \"d\" | \"e\" | \"f\" | \"g\" | \"h\" |\n",
    "                  \"i\" | \"j\" | \"k\" | \"l\" | \"m\" | \"n\" | \"o\" | \"p\" |\n",
    "                  \"q\" | \"r\" | \"s\" | \"t\" | \"u\" | \"v\" | \"w\" | \"x\" |\n",
    "                  \"y\" | \"z\"\n",
    "\n",
    "<number>      ::= \"0\" | \"1\" | \"2\" | \"3\" | \"4\" | \"5\" | \"6\" | \"7\" |\n",
    "                  \"8\" | \"9\"\n"
   ]
  },
  {
   "cell_type": "markdown",
   "metadata": {},
   "source": [
    "Examples of the CyPSA URN syntax will be illustrated below in the discussion of different kinds of objects."
   ]
  },
  {
   "cell_type": "markdown",
   "metadata": {},
   "source": [
    "## Control Center Objects\n",
    "We now specify the types of objects found in the control center. Concepts for these object types are found in the [Enterprise Network](https://github.com/ITI/cptl-power/blob/master/src/ontologies/201505-enet.rdf) ontology.  "
   ]
  },
  {
   "cell_type": "markdown",
   "metadata": {},
   "source": [
    "| Object Name | Description | Concept | Example Object Reference |\n",
    "|-------------|-------------------------|------------|----------------------|\n",
    "| Firewall | In computing, a [firewall](http://en.wikipedia.org/wiki/Firewall(computing) is a network security system that controls the incoming and outgoing network traffic based on an applied rule set. A firewall establishes a barrier between a trusted, secure internal network and another network (e.g., the Internet) that is assumed not to be secure and trusted. | `enet:Firewall` | `urn:cypsa:8bus:control-center.network#fw-1` |\n",
    "| Host | A network [host](http://en.wikipedia.org/wiki/Host_(network)) is a computer or other device connected to a computer network. | `enet:Host` | `urn:cypsa:8bus:control-center.network#host-34`|\n",
    "| Network | A [computer network](http://en.wikipedia.org/wiki/Computer_network) or data network is a telecommunications network which allows computers to exchange data. In computer networks, networked computing devices pass data to each other along data connections (network links). | `enet:Network` | `urn:cypsa:8bus:control-center.network#network-3` |\n",
    "| Switch  | A [network switch](http://en.wikipedia.org/wiki/Network_switch) (also called switching hub, bridging hub, officially MAC bridge) is a computer networking device that connects devices together on a computer network, by using packet switching to receive, process and forward data to the destination device. Unlike less advanced network hubs, a network switch forwards data only to one or multiple devices that need to receive it, rather than broadcasting the same data out of each of its ports. | `enet:Switch` | `urn:cypsa:8bus:control-center.network#switch-1`|\n"
   ]
  },
  {
   "cell_type": "markdown",
   "metadata": {},
   "source": [
    "## Substation Objects\n",
    "We now specify the types of objects found in the substation."
   ]
  },
  {
   "cell_type": "markdown",
   "metadata": {},
   "source": [
    "### Substation Yard Objects\n",
    "The substation yard objects tracked and analyzed by the CyPSA tool are now specified.  This is a representation of the concepts found in the [Substation Yard](https://github.com/ITI/cptl-power/blob/master/src/ontologies/201505-syard.rdf) ontology.\n",
    "\n",
    "| Object Name | Description | Concept | Example Object Reference |\n",
    "|-------------|-------------------------|------------|----------------------|\n",
    "| Substation | The name of the substation. | TBD | `urn:cypsa:8bus:ogdenville` |\n",
    "| Substation Yard | The yard of the substation.  A bus-branch and node-breaker model are both two expressions of the same notion of the substation yard. | TBD | `urn:cypsa:8bus:ogdenville.node-breaker`, `urn:cypsa:8bus:ogdenville.node-breaker.v2`|\n",
    "| Bus | A [busbar](http://en.wikipedia.org/wiki/Busbar) is a strip or bar of conductive material designed to conduct a substantial current of electricity. | `syard:Bus` | `urn:cypsa:8bus:ogdenville.node-breaker#bus-2`|\n",
    "| Breaker | A [breaker](http://en.wikipedia.org/wiki/Circuit_breaker) is an automatically operated electrical switch designed to protect and electrical circuit from damage caused by overload or short circuit. |`syard:Breaker`| `urn:cypsa:8bus:ogdenville.node-breaker#breaker-12`|\n",
    "| Generator | A [generator](http://en.wikipedia.org/wiki/Electric_generator) is a device that converts mechanical energy to electrical energy for use in an external circuit.  Generators provide nearly all of the power for electric power grids. |`syard:Generator`| `urn:cypsa:8bus:ogdenville.node-breaker#generator-1`|\n",
    "| Transformer | A [transformer](http://en.wikipedia.org/wiki/Transformer) is an electrical device that transfers energy between two or more circuits through electromagnetic induction. |`syard:Transformer`| `urn:cypsa:8bus:ogdenville.node-breaker#transformer-4`|\n",
    "\n",
    "\n",
    "\n"
   ]
  },
  {
   "cell_type": "markdown",
   "metadata": {},
   "source": [
    "### Substation Network Objects\n",
    "The substation network objects tracked and analyzed by the CyPSA tool are now specified.  This is a representation of the concepts found in the [Substation Network](https://github.com/ITI/cptl-power/blob/master/src/ontologies/201505-snet.rdf) ontology."
   ]
  },
  {
   "cell_type": "markdown",
   "metadata": {
    "collapsed": true
   },
   "source": [
    "| Object Name | Description                          | Concept | Example Object Reference |\n",
    "|-------------|--------------------------------------|---------|------------|\n",
    "| RTU         | A [remote terminal unit (RTU)](http://en.wikipedia.org/wiki/Remote_Terminal_Unit) is a microprocessor-controlled electronic device that interfaces objects in the physical world to a SCADA ssytem by transmitting telemetry data to a master system. | `snet:RTU` | `urn:cypsa:8bus:ogdenville.network#rtu-1` | \n",
    "| Switch | A [network switch](http://en.wikipedia.org/wiki/Network_switch) (also called switching hub, bridging hub, officially MAC bridge[1]) is a computer networking device that connects devices together on a computer network, by using packet switching to receive, process and forward data to the destination device. Unlike less advanced network hubs, a network switch forwards data only to one or multiple devices that need to receive it, rather than broadcasting the same data out of each of its ports. | `snet:Switch` | `urn:cypsa:8bus:ogdenville.network#switch-2`, `urn:cypsa:8bus:ogdenville.network#SEL_3620_1`|\n",
    "| Relay | A [relay](http://en.wikipedia.org/wiki/Protective_relay) is a device designed to trip a circuit breaker when a fault is detected. | `snet:Relay` | `urn:cypsa:8bus:ogdenville.network#SEL_421_1`|\n",
    "| Distance Relay | The most common form of protection on high voltage transmission systems is [distance relay](http://en.wikipedia.org/wiki/Protective_relay#Distance_relay) protection.  Power lines have set impedance per kilometre and using  this value and comparing voltage and current the distance to a fault can be determined. | `snet:DistanceRelay` | `urn:cypsa:8bus:ogdenville.network#SEL_421_1`|\n",
    "| Overcurrent Relay | A digital [over current relay](http://en.wikipedia.org/wiki/Protective_relay#Over_current_relay) is a protective relay which operates when the load current exceeds a pickup value | `snet:OverCurrentRelay` | `urn:cypsa:8bus:ogdenville.network#SEL_451_1`|\n",
    "| Reverse Power Relay |  A [reverse power relay](http://www.electrotechnik.net/2009/06/reverse-power-relay-function-and.html) is a directional power relay that is used to monitor the power from a generator running in parallel with another generator or the utility. The function of the reverse power relay is to prevent a reverse power condition in which power flows from the bus bar into the generator. This condition can occur when there is a failure in the prime mover such as an engine or a turbine which drives the generator. | `snet:ReversePowerRelay` | `urn:cypsa:8bus:ogdenville.network#revpwr_2` |\n",
    "\n"
   ]
  },
  {
   "cell_type": "markdown",
   "metadata": {},
   "source": [
    "# <span style=\"color:green\">CyPSA Object Expressions</span>\n",
    "A single object reference may have many different expressions.  For example, the Ogdenville substation yard in the CyPSA 8-bus model may resolve to (1) a list of breakers within that context, (2) a set of geographic coordinates, (3) an image of the substation, or (4) a node-breaker model of the yard.  As such, in this section we inventory different *expressions* of the objects listed above.  We use our primary reference scheme, the CyPSA Object Model."
   ]
  },
  {
   "cell_type": "markdown",
   "metadata": {},
   "source": [
    "# <span style=\"color:green\">CyPSA Data Sources</span>\n",
    "Utilities have access to a wide variety of data sources concerning their assets but lack the ability to easily integrate data available from individual devices, state estimation applications such as PowerWorld, or network analysis tools such as NPView.  As such CyPSA supports integration of data from the following sources so that analytics can readily access that information through the object model described above via the Data Access Object pattern.\n",
    "\n",
    "| Data Source Name | Description | Objects | Data Format |\n",
    "|------------------|-------------|---------|-------------|\n",
    "| CPForms | Substation Interconnect and Browser | Substation | CPTL JSON |\n",
    "| CVE     | Information about asset vulnerabilities | Relay, Switch | ?|\n",
    "| NPView     | Firewall analysis for critical infrastructure | Substation Network, Control Network | ? |\n",
    "| PowerWorld | Power systems simulation trainer | Substation Yard | .pwb file |\n",
    "\n",
    "The CyPSA Data Management Service indexes the location of different kinds of information so that upon request, a service (e.g. an analytic) can retrieve and subsequently incorporate that information into its algorithm.  "
   ]
  },
  {
   "cell_type": "markdown",
   "metadata": {},
   "source": [
    "# <span style=\"color:green\">CyPSA Services</span>\n",
    "These services access and manipulate the data sources in terms of the CyPSA Object Model.  The results of this logic is then passed up to a view.\n",
    "\n",
    "## Inventory\n",
    "| *GetSubstationYardNetwork* ||\n",
    "|------------------------|-|\n",
    "| **Description: ** | Given an identifier for a substation, retrieve a graph to represent that substation's yard|\n",
    "| **Input: ** | <ul><li>An identifier for the substation yard.</li></ul>|\n",
    "| **Output: ** | A graph ($G$) that represents the network.  Currently, the format of this graph is JSON and is defined by the [substation yard grammar](https://github.com/ITI/cptl-power/blob/master/src/grammars/json/substation_yard.grammar).  |\n",
    "| **Data Source: ** | PowerWorld currently contains the logic for this service. |\n",
    "\n",
    "| *GetSubstationHouseNetwork*||\n",
    "|------------------------|-|\n",
    "| **Description: ** | Given an identifier for a substation, retrieve a graph to represent the substation house network |\n",
    "| **Input: ** | <ul><li>An identifier for the substation house network.</li></ul>|\n",
    "| **Output: ** | A graph ($G$) that represents the substation house network as a simple network diagram.  Currently, the format of this graph is JSON and is defined by the [substation network grammar](https://github.com/ITI/cptl-power/blob/master/src/grammars/json/substation_network.grammar). |\n",
    "| **Data Sources: ** | NPView currently provides one implementation of the logic for this service in which a graph is generated via Firewall rule parsing.  An alternative implementation could be done via `nmap` as well. |\n",
    "\n",
    "| *GetControlCenterNetwork* ||\n",
    "|---------------------------|-|\n",
    "| **Description:** | Given an identifier for a control center, retrieve a graph to represent the control center network |\n",
    "| **Input: ** | <ul><li>An identifier for the control center network.</li></ul>|\n",
    "| **Output: ** | A graph ($G$) that represents the control center network as a simple network diagram.  Currently, the format of this graph is JSON and needs to be defined on the GitHub site. |\n",
    "| **Data Sources: ** | NPView currently provides one implementation of the logic for this service in which a graph is generated via Firewall rule parsing.|\n",
    "\n",
    "\n",
    "## Analytics\n",
    "\n",
    "| *Cyber Vulnerability Attack Path Analysis* ||\n",
    "|------------------------------------------|-|\n",
    "| **Description: ** | Given a control center network, one or more substation networks, or a composition of both, as well as source and destination vertices, provide a list of paths from the source to the target. |  \n",
    "| **Inputs: ** | <ul><li>A graph ($G$) that represents the network.  Currently the format of this graph is <span style=\"color:red\">Robin, Mouna?</span></li><li>source and target vertices ($s,t$).  Currently, these are specified via <span style=\"color:red\">Robin, Mouna?</span></li><li>and the asset vulnerability database. Currently, this is hardcoded to scrape information from the CVE <span style=\"color:red\">Robin, Mouna?</span></li></ul>|\n",
    "| **Outputs: ** | A sequence of paths $p_1,p_2 \\ldots p_N$.  Each path $p_i$ is a represented as a list of adjacent vertices in $G$.  Each vertex in that path has a weighting.  The current format for this output is XML <span style=\"color:red\">Schema for said format?</span>|\n",
    "| **Data Source: ** | NPView provides the inputs as well as the outputs to this analysis. |\n",
    "\n"
   ]
  },
  {
   "cell_type": "markdown",
   "metadata": {
    "collapsed": true
   },
   "source": [
    "# <span style=\"color:green\">CyPSA Views</span>\n"
   ]
  },
  {
   "cell_type": "markdown",
   "metadata": {
    "collapsed": true
   },
   "source": [
    "## Graph Editor View\n",
    "\n",
    "The Graph Editor allows one to browse CyPSA-inventoried assets graphically.  The parameters use\n",
    "\n",
    "\n",
    "| Parameter Name | Description |\n",
    "\n"
   ]
  }
 ],
 "metadata": {
  "kernelspec": {
   "display_name": "Python 2",
   "language": "python",
   "name": "python2"
  },
  "language_info": {
   "codemirror_mode": {
    "name": "ipython",
    "version": 2
   },
   "file_extension": ".py",
   "mimetype": "text/x-python",
   "name": "python",
   "nbconvert_exporter": "python",
   "pygments_lexer": "ipython2",
   "version": "2.7.6"
  }
 },
 "nbformat": 4,
 "nbformat_minor": 0
}
